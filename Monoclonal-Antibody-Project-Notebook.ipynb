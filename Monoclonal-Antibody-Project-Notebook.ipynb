{
 "cells": [
  {
   "cell_type": "code",
   "execution_count": 29,
   "id": "a05a8ae4",
   "metadata": {},
   "outputs": [],
   "source": [
    "# Excel Input 1"
   ]
  },
  {
   "cell_type": "code",
   "execution_count": 35,
   "id": "09a432d5",
   "metadata": {},
   "outputs": [
    {
     "data": {
      "text/plain": [
       "Harvest               0.858583\n",
       "Column1               0.944980\n",
       "Viral Inactivation    0.958650\n",
       "Column2               0.895771\n",
       "Column3               0.957102\n",
       "Viral Filtration      0.977895\n",
       "UFDF                  0.957722\n",
       "DrugSubstance Fill    0.992375\n",
       "Overall               0.625088\n",
       "dtype: float64"
      ]
     },
     "execution_count": 35,
     "metadata": {},
     "output_type": "execute_result"
    }
   ],
   "source": [
    "import pandas as pd\n",
    "import numpy as np\n",
    "excel_data_df = pd.read_excel('example input 1.xlsx', sheet_name='Ex1 Yields', usecols='B:J', skiprows = 7)\n",
    "excel_input1_table = []\n",
    "excel_data_df.mean(axis='index')\n",
    "#average = excel_data_df.mean(axis='index')\n",
    "#excel_input1_table.append(average)\n",
    "#print(excel_input1_table)"
   ]
  },
  {
   "cell_type": "code",
   "execution_count": 7,
   "id": "5a4a194f",
   "metadata": {},
   "outputs": [
    {
     "data": {
      "text/plain": [
       "Harvest               0.033222\n",
       "Column1               0.021198\n",
       "Viral Inactivation    0.010725\n",
       "Column2               0.025406\n",
       "Column3               0.024599\n",
       "Viral Filtration      0.009043\n",
       "UFDF                  0.019279\n",
       "DrugSubstance Fill    0.015045\n",
       "Overall               0.029233\n",
       "dtype: float64"
      ]
     },
     "execution_count": 7,
     "metadata": {},
     "output_type": "execute_result"
    }
   ],
   "source": [
    "excel_data_df.std(axis='index')"
   ]
  },
  {
   "cell_type": "code",
   "execution_count": 8,
   "id": "2ec96790",
   "metadata": {},
   "outputs": [
    {
     "data": {
      "text/plain": [
       "Harvest               11\n",
       "Column1               11\n",
       "Viral Inactivation    11\n",
       "Column2               11\n",
       "Column3               11\n",
       "Viral Filtration      11\n",
       "UFDF                  11\n",
       "DrugSubstance Fill    11\n",
       "Overall                4\n",
       "dtype: int64"
      ]
     },
     "execution_count": 8,
     "metadata": {},
     "output_type": "execute_result"
    }
   ],
   "source": [
    "excel_data_df.count(axis='index')"
   ]
  },
  {
   "cell_type": "code",
   "execution_count": 22,
   "id": "37d9d808",
   "metadata": {},
   "outputs": [
    {
     "name": "stdout",
     "output_type": "stream",
     "text": [
      "[       nan        nan        nan        nan        nan        nan\n",
      " 1.50327378        nan        nan        nan        nan        nan\n",
      " 1.57990407 1.49410305        nan        nan 1.53650341]\n",
      "Lower Bound: [       nan        nan        nan        nan        nan        nan\n",
      " 0.29046819        nan        nan        nan        nan        nan\n",
      " 0.1951432  0.32343555        nan        nan 0.25346546]\n",
      "Higher Bound: [       nan        nan        nan        nan        nan        nan\n",
      " 1.52550519        nan        nan        nan        nan        nan\n",
      " 1.60528751 1.51556204        nan        nan 1.56002221]\n"
     ]
    }
   ],
   "source": [
    "import toleranceinterval as ti\n",
    "bound1 = ti.oneside.normal(excel_data_df, 0.95, 0.9986501)\n",
    "print(bound1)\n",
    "bound2 = ti.twoside.normal(excel_data_df, 0.95, 0.99730)\n",
    "print('Lower Bound:', bound2[:,0])\n",
    "print('Higher Bound:', bound2[:,1])"
   ]
  },
  {
   "cell_type": "code",
   "execution_count": null,
   "id": "824399c0",
   "metadata": {},
   "outputs": [],
   "source": [
    "# Excel Input 2"
   ]
  },
  {
   "cell_type": "code",
   "execution_count": 23,
   "id": "3253921b",
   "metadata": {},
   "outputs": [
    {
     "data": {
      "text/plain": [
       "Harvest               86.751742\n",
       "Column1               93.055799\n",
       "Viral Inactivation    94.773191\n",
       "Column2               91.181080\n",
       "Column3               93.575982\n",
       "Viral Filtration      97.566433\n",
       "UFDF                  95.811481\n",
       "DrugSubstance Fill    99.301117\n",
       "Overall               58.474524\n",
       "dtype: float64"
      ]
     },
     "execution_count": 23,
     "metadata": {},
     "output_type": "execute_result"
    }
   ],
   "source": [
    "excel_data2_df = pd.read_excel('example input 2.xlsx', sheet_name='Ex2 Yields', usecols='B:J', skiprows = 7)\n",
    "excel_data2_df.mean(axis='index')"
   ]
  },
  {
   "cell_type": "code",
   "execution_count": 30,
   "id": "c4defdc5",
   "metadata": {},
   "outputs": [
    {
     "data": {
      "text/plain": [
       "Harvest               4.184362\n",
       "Column1               1.813859\n",
       "Viral Inactivation    2.014119\n",
       "Column2               2.399683\n",
       "Column3               1.238798\n",
       "Viral Filtration      1.061718\n",
       "UFDF                  1.579717\n",
       "DrugSubstance Fill    0.847436\n",
       "Overall               4.117323\n",
       "dtype: float64"
      ]
     },
     "execution_count": 30,
     "metadata": {},
     "output_type": "execute_result"
    }
   ],
   "source": [
    "excel_data2_df.std(axis='index')"
   ]
  },
  {
   "cell_type": "code",
   "execution_count": 31,
   "id": "619bbe4d",
   "metadata": {},
   "outputs": [
    {
     "data": {
      "text/plain": [
       "Harvest               11\n",
       "Column1               10\n",
       "Viral Inactivation    11\n",
       "Column2               11\n",
       "Column3               10\n",
       "Viral Filtration       9\n",
       "UFDF                  12\n",
       "DrugSubstance Fill     8\n",
       "Overall                4\n",
       "dtype: int64"
      ]
     },
     "execution_count": 31,
     "metadata": {},
     "output_type": "execute_result"
    }
   ],
   "source": [
    "excel_data2_df.count(axis='index')"
   ]
  },
  {
   "cell_type": "code",
   "execution_count": 32,
   "id": "c2e228b0",
   "metadata": {},
   "outputs": [
    {
     "name": "stdout",
     "output_type": "stream",
     "text": [
      "[         nan          nan          nan          nan          nan\n",
      "          nan 158.2150667           nan          nan          nan\n",
      "          nan          nan 157.62174621          nan          nan\n",
      " 150.50890006 160.69769829]\n",
      "Lower Bound: [        nan         nan         nan         nan         nan         nan\n",
      " 18.03606329         nan         nan         nan         nan         nan\n",
      " 18.3574413          nan         nan 30.0898873  14.07835323]\n",
      "Higher Bound: [         nan          nan          nan          nan          nan\n",
      "          nan 160.78462595          nan          nan          nan\n",
      "          nan          nan 160.17453853          nan          nan\n",
      " 152.71624767 163.38531259]\n"
     ]
    }
   ],
   "source": [
    "import toleranceinterval as ti\n",
    "bound2_1 = ti.oneside.normal(excel_data2_df, 0.95, 0.9986501)\n",
    "print(bound2_1)\n",
    "bound2_2 = ti.twoside.normal(excel_data2_df, 0.95, 0.99730)\n",
    "print('Lower Bound:', bound2_2[:,0])\n",
    "print('Higher Bound:', bound2_2[:,1])"
   ]
  },
  {
   "cell_type": "code",
   "execution_count": null,
   "id": "579cda20",
   "metadata": {},
   "outputs": [],
   "source": []
  }
 ],
 "metadata": {
  "kernelspec": {
   "display_name": "Python 3 (ipykernel)",
   "language": "python",
   "name": "python3"
  },
  "language_info": {
   "codemirror_mode": {
    "name": "ipython",
    "version": 3
   },
   "file_extension": ".py",
   "mimetype": "text/x-python",
   "name": "python",
   "nbconvert_exporter": "python",
   "pygments_lexer": "ipython3",
   "version": "3.9.13"
  }
 },
 "nbformat": 4,
 "nbformat_minor": 5
}
